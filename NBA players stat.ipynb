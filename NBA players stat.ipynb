{
 "cells": [
  {
   "cell_type": "code",
   "execution_count": 1,
   "id": "82f1cb81",
   "metadata": {},
   "outputs": [],
   "source": [
    "import pandas as pd"
   ]
  },
  {
   "cell_type": "code",
   "execution_count": 3,
   "id": "826b487c",
   "metadata": {},
   "outputs": [
    {
     "name": "stdout",
     "output_type": "stream",
     "text": [
      "<class 'pandas.core.frame.DataFrame'>\n",
      "RangeIndex: 24691 entries, 0 to 24690\n",
      "Data columns (total 53 columns):\n",
      " #   Column      Non-Null Count  Dtype  \n",
      "---  ------      --------------  -----  \n",
      " 0   Unnamed: 0  24691 non-null  int64  \n",
      " 1   Year        24624 non-null  float64\n",
      " 2   Player      24624 non-null  object \n",
      " 3   Pos         24624 non-null  object \n",
      " 4   Age         24616 non-null  float64\n",
      " 5   Tm          24624 non-null  object \n",
      " 6   G           24624 non-null  float64\n",
      " 7   GS          18233 non-null  float64\n",
      " 8   MP          24138 non-null  float64\n",
      " 9   PER         24101 non-null  float64\n",
      " 10  TS%         24538 non-null  float64\n",
      " 11  3PAr        18839 non-null  float64\n",
      " 12  FTr         24525 non-null  float64\n",
      " 13  ORB%        20792 non-null  float64\n",
      " 14  DRB%        20792 non-null  float64\n",
      " 15  TRB%        21571 non-null  float64\n",
      " 16  AST%        22555 non-null  float64\n",
      " 17  STL%        20792 non-null  float64\n",
      " 18  BLK%        20792 non-null  float64\n",
      " 19  TOV%        19582 non-null  float64\n",
      " 20  USG%        19640 non-null  float64\n",
      " 21  blanl       0 non-null      float64\n",
      " 22  OWS         24585 non-null  float64\n",
      " 23  DWS         24585 non-null  float64\n",
      " 24  WS          24585 non-null  float64\n",
      " 25  WS/48       24101 non-null  float64\n",
      " 26  blank2      0 non-null      float64\n",
      " 27  OBPM        20797 non-null  float64\n",
      " 28  DBPM        20797 non-null  float64\n",
      " 29  BPM         20797 non-null  float64\n",
      " 30  VORP        20797 non-null  float64\n",
      " 31  FG          24624 non-null  float64\n",
      " 32  FGA         24624 non-null  float64\n",
      " 33  FG%         24525 non-null  float64\n",
      " 34  3P          18927 non-null  float64\n",
      " 35  3PA         18927 non-null  float64\n",
      " 36  3P%         15416 non-null  float64\n",
      " 37  2P          24624 non-null  float64\n",
      " 38  2PA         24624 non-null  float64\n",
      " 39  2P%         24496 non-null  float64\n",
      " 40  eFG%        24525 non-null  float64\n",
      " 41  FT          24624 non-null  float64\n",
      " 42  FTA         24624 non-null  float64\n",
      " 43  FT%         23766 non-null  float64\n",
      " 44  ORB         20797 non-null  float64\n",
      " 45  DRB         20797 non-null  float64\n",
      " 46  TRB         24312 non-null  float64\n",
      " 47  AST         24624 non-null  float64\n",
      " 48  STL         20797 non-null  float64\n",
      " 49  BLK         20797 non-null  float64\n",
      " 50  TOV         19645 non-null  float64\n",
      " 51  PF          24624 non-null  float64\n",
      " 52  PTS         24624 non-null  float64\n",
      "dtypes: float64(49), int64(1), object(3)\n",
      "memory usage: 10.0+ MB\n"
     ]
    }
   ],
   "source": [
    "nba = pd.read_csv(\"C:\\\\Users\\\\17667\\\\Desktop\\\\Python\\\\Side projects\\\\NBA\\\\Seasons_Stats.csv\")\n",
    "nba.info()"
   ]
  },
  {
   "cell_type": "code",
   "execution_count": 24,
   "id": "21a41e84",
   "metadata": {},
   "outputs": [
    {
     "data": {
      "text/plain": [
       "3922"
      ]
     },
     "execution_count": 24,
     "metadata": {},
     "output_type": "execute_result"
    }
   ],
   "source": [
    "len(nba['Player'].unique())"
   ]
  },
  {
   "cell_type": "code",
   "execution_count": 29,
   "id": "96195e70",
   "metadata": {
    "scrolled": true
   },
   "outputs": [
    {
     "data": {
      "text/html": [
       "<div>\n",
       "<style scoped>\n",
       "    .dataframe tbody tr th:only-of-type {\n",
       "        vertical-align: middle;\n",
       "    }\n",
       "\n",
       "    .dataframe tbody tr th {\n",
       "        vertical-align: top;\n",
       "    }\n",
       "\n",
       "    .dataframe thead th {\n",
       "        text-align: right;\n",
       "    }\n",
       "</style>\n",
       "<table border=\"1\" class=\"dataframe\">\n",
       "  <thead>\n",
       "    <tr style=\"text-align: right;\">\n",
       "      <th></th>\n",
       "      <th>PTS</th>\n",
       "    </tr>\n",
       "    <tr>\n",
       "      <th>Player</th>\n",
       "      <th></th>\n",
       "    </tr>\n",
       "  </thead>\n",
       "  <tbody>\n",
       "    <tr>\n",
       "      <th>Kareem Abdul-Jabbar*</th>\n",
       "      <td>38387.0</td>\n",
       "    </tr>\n",
       "    <tr>\n",
       "      <th>Karl Malone*</th>\n",
       "      <td>36928.0</td>\n",
       "    </tr>\n",
       "    <tr>\n",
       "      <th>Wilt Chamberlain*</th>\n",
       "      <td>33953.0</td>\n",
       "    </tr>\n",
       "    <tr>\n",
       "      <th>Kobe Bryant</th>\n",
       "      <td>33643.0</td>\n",
       "    </tr>\n",
       "    <tr>\n",
       "      <th>Michael Jordan*</th>\n",
       "      <td>32292.0</td>\n",
       "    </tr>\n",
       "    <tr>\n",
       "      <th>Eddie Johnson</th>\n",
       "      <td>31852.0</td>\n",
       "    </tr>\n",
       "    <tr>\n",
       "      <th>Dirk Nowitzki</th>\n",
       "      <td>30260.0</td>\n",
       "    </tr>\n",
       "    <tr>\n",
       "      <th>Shaquille O'Neal*</th>\n",
       "      <td>29428.0</td>\n",
       "    </tr>\n",
       "    <tr>\n",
       "      <th>LeBron James</th>\n",
       "      <td>28787.0</td>\n",
       "    </tr>\n",
       "    <tr>\n",
       "      <th>Dominique Wilkins*</th>\n",
       "      <td>28591.0</td>\n",
       "    </tr>\n",
       "  </tbody>\n",
       "</table>\n",
       "</div>"
      ],
      "text/plain": [
       "                          PTS\n",
       "Player                       \n",
       "Kareem Abdul-Jabbar*  38387.0\n",
       "Karl Malone*          36928.0\n",
       "Wilt Chamberlain*     33953.0\n",
       "Kobe Bryant           33643.0\n",
       "Michael Jordan*       32292.0\n",
       "Eddie Johnson         31852.0\n",
       "Dirk Nowitzki         30260.0\n",
       "Shaquille O'Neal*     29428.0\n",
       "LeBron James          28787.0\n",
       "Dominique Wilkins*    28591.0"
      ]
     },
     "execution_count": 29,
     "metadata": {},
     "output_type": "execute_result"
    }
   ],
   "source": [
    "# all time scoring list (till 2017)\n",
    "nba_pts = nba.loc[:,['Player','PTS']].dropna().set_index('Player')\n",
    "nba_pts.groupby(level='Player').sum().sort_values(by=['PTS'],ascending=False).head(10)"
   ]
  },
  {
   "cell_type": "code",
   "execution_count": null,
   "id": "c6c3fd4b",
   "metadata": {},
   "outputs": [],
   "source": []
  }
 ],
 "metadata": {
  "kernelspec": {
   "display_name": "Python 3 (ipykernel)",
   "language": "python",
   "name": "python3"
  },
  "language_info": {
   "codemirror_mode": {
    "name": "ipython",
    "version": 3
   },
   "file_extension": ".py",
   "mimetype": "text/x-python",
   "name": "python",
   "nbconvert_exporter": "python",
   "pygments_lexer": "ipython3",
   "version": "3.10.7"
  }
 },
 "nbformat": 4,
 "nbformat_minor": 5
}
